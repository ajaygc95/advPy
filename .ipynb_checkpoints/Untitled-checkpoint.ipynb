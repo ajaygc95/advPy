{
 "cells": [
  {
   "cell_type": "code",
   "execution_count": 3,
   "id": "collaborative-terrain",
   "metadata": {},
   "outputs": [],
   "source": [
    "import pandas as pd\n",
    "class Backend:\n",
    "    def __init__(self):\n",
    "        self.url = 'https://www.esrl.noaa.gov/gmd/aggi/aggi.html'\n",
    "\n",
    "    def parse(self):\n",
    "        dt = pd.read_html(self.url, attrs={'class': 'table table-bordered table-condensed table-striped table-header'},header = None)\n",
    "        toprint = dt[0].head()\n",
    "        print(toprint)\n",
    "\n",
    "        \n",
    "        "
   ]
  },
  {
   "cell_type": "code",
   "execution_count": 4,
   "id": "wireless-indianapolis",
   "metadata": {},
   "outputs": [
    {
     "name": "stdout",
     "output_type": "stream",
     "text": [
      "  Global Radiative Forcing (W m-2)                                     \\\n",
      "                              Year    CO2    CH4    N2O  CFC12  CFC11   \n",
      "0                              NaN    NaN    NaN    NaN    NaN    NaN   \n",
      "1                             Year    CO2    CH4    N2O  CFC12  CFC11   \n",
      "2                             1979  1.027  0.406  0.104  0.092  0.040   \n",
      "3                             1980  1.058  0.413  0.104  0.097  0.042   \n",
      "4                             1981  1.077  0.420  0.107  0.102  0.044   \n",
      "\n",
      "                   CO2-eq(ppm)      AGGI             \n",
      "   15-minor  Total       Total  1990 = 1 % change *  \n",
      "0       NaN    NaN       (ppm)       NaN          %  \n",
      "1  15-minor  Total       Total  1990 = 1   change *  \n",
      "2     0.031  1.699         382     0.785        NaN  \n",
      "3     0.034  1.748         385     0.807        2.2  \n",
      "4     0.036  1.786         388     0.825        1.8  \n"
     ]
    }
   ],
   "source": [
    "backend = Backend()\n",
    "backend.parse()"
   ]
  },
  {
   "cell_type": "code",
   "execution_count": null,
   "id": "executive-accuracy",
   "metadata": {},
   "outputs": [],
   "source": []
  }
 ],
 "metadata": {
  "kernelspec": {
   "display_name": "Python 3",
   "language": "python",
   "name": "python3"
  },
  "language_info": {
   "codemirror_mode": {
    "name": "ipython",
    "version": 3
   },
   "file_extension": ".py",
   "mimetype": "text/x-python",
   "name": "python",
   "nbconvert_exporter": "python",
   "pygments_lexer": "ipython3",
   "version": "3.9.0"
  }
 },
 "nbformat": 4,
 "nbformat_minor": 5
}
